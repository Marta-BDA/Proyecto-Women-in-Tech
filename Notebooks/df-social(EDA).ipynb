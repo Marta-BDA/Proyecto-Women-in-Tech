{
 "cells": [
  {
   "cell_type": "markdown",
   "metadata": {},
   "source": [
    "# DATAFRAME SOCIAL - EDA"
   ]
  },
  {
   "cell_type": "code",
   "execution_count": 19,
   "metadata": {},
   "outputs": [],
   "source": [
    "import re\n",
    "import os\n",
    "import xml.etree.ElementTree as ET\n",
    "import mysql.connector \n",
    "import pandas as pd\n",
    "import numpy as np\n",
    "import sidetable as stb\n",
    "import matplotlib.pyplot as plt\n",
    "import seaborn as sns"
   ]
  },
  {
   "attachments": {},
   "cell_type": "markdown",
   "metadata": {},
   "source": [
    "### Creamos un dataframe dónde incluimos a hombres y mujeres en la consulta, edad, país, nivel de estudios, puesto de trabajo, sector y tamaño de la compañía."
   ]
  },
  {
   "cell_type": "code",
   "execution_count": 20,
   "metadata": {},
   "outputs": [],
   "source": [
    "cnx = mysql.connector.connect(user='root', password='AlumnaAdalab',\n",
    "                              host='127.0.0.1',\n",
    "                              database='proyecto_1_equipo_1')\n",
    "mycursor = cnx.cursor()\n",
    "mycursor.execute(\"\"\"SELECT xml.gender, xml.age, txt.q3, txt.q4, txt.q5, txt.q20, txt.q21\n",
    "                    FROM data_txt AS txt\n",
    "                    INNER JOIN data_xml AS xml\n",
    "                    ON txt.index_sql = xml.index_sql ;\"\"\")\n",
    "\n",
    "myresult = mycursor.fetchall()\n",
    "df_social = pd.DataFrame(myresult, columns = [\"genero\",\"edad\",\"pais\", \"nivel de estudios\", \"puesto de trabajo\", \"sector\", \"tamaño de la compañia\"])\n",
    "cnx.close()"
   ]
  },
  {
   "cell_type": "markdown",
   "metadata": {},
   "source": [
    "### Realizamos una esploración exhaustiva de nuestro DataFrame."
   ]
  },
  {
   "cell_type": "code",
   "execution_count": 21,
   "metadata": {},
   "outputs": [
    {
     "data": {
      "text/html": [
       "<div>\n",
       "<style scoped>\n",
       "    .dataframe tbody tr th:only-of-type {\n",
       "        vertical-align: middle;\n",
       "    }\n",
       "\n",
       "    .dataframe tbody tr th {\n",
       "        vertical-align: top;\n",
       "    }\n",
       "\n",
       "    .dataframe thead th {\n",
       "        text-align: right;\n",
       "    }\n",
       "</style>\n",
       "<table border=\"1\" class=\"dataframe\">\n",
       "  <thead>\n",
       "    <tr style=\"text-align: right;\">\n",
       "      <th></th>\n",
       "      <th>genero</th>\n",
       "      <th>edad</th>\n",
       "      <th>pais</th>\n",
       "      <th>nivel de estudios</th>\n",
       "      <th>puesto de trabajo</th>\n",
       "      <th>sector</th>\n",
       "      <th>tamaño de la compañia</th>\n",
       "    </tr>\n",
       "  </thead>\n",
       "  <tbody>\n",
       "    <tr>\n",
       "      <th>0</th>\n",
       "      <td>Man</td>\n",
       "      <td>50-54</td>\n",
       "      <td>Indonesia</td>\n",
       "      <td>Master’s degree</td>\n",
       "      <td>Program/Project Manager</td>\n",
       "      <td>Manufacturing/Fabrication</td>\n",
       "      <td>1000-9,999 employees</td>\n",
       "    </tr>\n",
       "    <tr>\n",
       "      <th>1</th>\n",
       "      <td>Man</td>\n",
       "      <td>22-24</td>\n",
       "      <td>Pakistan</td>\n",
       "      <td>Master’s degree</td>\n",
       "      <td>Software Engineer</td>\n",
       "      <td>Academics/Education</td>\n",
       "      <td>1000-9,999 employees</td>\n",
       "    </tr>\n",
       "    <tr>\n",
       "      <th>2</th>\n",
       "      <td>Man</td>\n",
       "      <td>45-49</td>\n",
       "      <td>Mexico</td>\n",
       "      <td>Doctoral degree</td>\n",
       "      <td>Research Scientist</td>\n",
       "      <td>Academics/Education</td>\n",
       "      <td>1000-9,999 employees</td>\n",
       "    </tr>\n",
       "    <tr>\n",
       "      <th>3</th>\n",
       "      <td>Man</td>\n",
       "      <td>45-49</td>\n",
       "      <td>India</td>\n",
       "      <td>Doctoral degree</td>\n",
       "      <td>Other</td>\n",
       "      <td>Academics/Education</td>\n",
       "      <td>50-249 employees</td>\n",
       "    </tr>\n",
       "    <tr>\n",
       "      <th>4</th>\n",
       "      <td>Woman</td>\n",
       "      <td>25-29</td>\n",
       "      <td>India</td>\n",
       "      <td>I prefer not to answer</td>\n",
       "      <td>Currently not employed</td>\n",
       "      <td></td>\n",
       "      <td></td>\n",
       "    </tr>\n",
       "  </tbody>\n",
       "</table>\n",
       "</div>"
      ],
      "text/plain": [
       "  genero   edad       pais       nivel de estudios        puesto de trabajo  \\\n",
       "0    Man  50-54  Indonesia         Master’s degree  Program/Project Manager   \n",
       "1    Man  22-24   Pakistan         Master’s degree        Software Engineer   \n",
       "2    Man  45-49     Mexico         Doctoral degree       Research Scientist   \n",
       "3    Man  45-49      India         Doctoral degree                    Other   \n",
       "4  Woman  25-29      India  I prefer not to answer   Currently not employed   \n",
       "\n",
       "                      sector tamaño de la compañia  \n",
       "0  Manufacturing/Fabrication  1000-9,999 employees  \n",
       "1        Academics/Education  1000-9,999 employees  \n",
       "2        Academics/Education  1000-9,999 employees  \n",
       "3        Academics/Education      50-249 employees  \n",
       "4                                                   "
      ]
     },
     "execution_count": 21,
     "metadata": {},
     "output_type": "execute_result"
    }
   ],
   "source": [
    "df_social.head()"
   ]
  },
  {
   "cell_type": "code",
   "execution_count": 22,
   "metadata": {},
   "outputs": [
    {
     "data": {
      "text/html": [
       "<div>\n",
       "<style scoped>\n",
       "    .dataframe tbody tr th:only-of-type {\n",
       "        vertical-align: middle;\n",
       "    }\n",
       "\n",
       "    .dataframe tbody tr th {\n",
       "        vertical-align: top;\n",
       "    }\n",
       "\n",
       "    .dataframe thead th {\n",
       "        text-align: right;\n",
       "    }\n",
       "</style>\n",
       "<table border=\"1\" class=\"dataframe\">\n",
       "  <thead>\n",
       "    <tr style=\"text-align: right;\">\n",
       "      <th></th>\n",
       "      <th>genero</th>\n",
       "      <th>edad</th>\n",
       "      <th>pais</th>\n",
       "      <th>nivel de estudios</th>\n",
       "      <th>puesto de trabajo</th>\n",
       "      <th>sector</th>\n",
       "      <th>tamaño de la compañia</th>\n",
       "    </tr>\n",
       "  </thead>\n",
       "  <tbody>\n",
       "    <tr>\n",
       "      <th>25967</th>\n",
       "      <td>Man</td>\n",
       "      <td>30-34</td>\n",
       "      <td>Egypt</td>\n",
       "      <td>Bachelor’s degree</td>\n",
       "      <td>Data Analyst</td>\n",
       "      <td>Computers/Technology</td>\n",
       "      <td>10,000 or more employees</td>\n",
       "    </tr>\n",
       "    <tr>\n",
       "      <th>25968</th>\n",
       "      <td>Man</td>\n",
       "      <td>22-24</td>\n",
       "      <td>China</td>\n",
       "      <td>Master’s degree</td>\n",
       "      <td>Student</td>\n",
       "      <td></td>\n",
       "      <td></td>\n",
       "    </tr>\n",
       "    <tr>\n",
       "      <th>25969</th>\n",
       "      <td>Man</td>\n",
       "      <td>50-54</td>\n",
       "      <td>Sweden</td>\n",
       "      <td>Doctoral degree</td>\n",
       "      <td>Research Scientist</td>\n",
       "      <td>Academics/Education</td>\n",
       "      <td>1000-9,999 employees</td>\n",
       "    </tr>\n",
       "    <tr>\n",
       "      <th>25970</th>\n",
       "      <td>Man</td>\n",
       "      <td>45-49</td>\n",
       "      <td>United States of America</td>\n",
       "      <td>Master’s degree</td>\n",
       "      <td>Data Scientist</td>\n",
       "      <td>Online Service/Internet-based Services</td>\n",
       "      <td>10,000 or more employees</td>\n",
       "    </tr>\n",
       "    <tr>\n",
       "      <th>25971</th>\n",
       "      <td>Man</td>\n",
       "      <td>18-21</td>\n",
       "      <td>India</td>\n",
       "      <td>Bachelor’s degree</td>\n",
       "      <td>Business Analyst</td>\n",
       "      <td>Other</td>\n",
       "      <td>0-49 employees</td>\n",
       "    </tr>\n",
       "  </tbody>\n",
       "</table>\n",
       "</div>"
      ],
      "text/plain": [
       "      genero   edad                      pais  nivel de estudios  \\\n",
       "25967    Man  30-34                     Egypt  Bachelor’s degree   \n",
       "25968    Man  22-24                     China    Master’s degree   \n",
       "25969    Man  50-54                    Sweden    Doctoral degree   \n",
       "25970    Man  45-49  United States of America    Master’s degree   \n",
       "25971    Man  18-21                     India  Bachelor’s degree   \n",
       "\n",
       "        puesto de trabajo                                  sector  \\\n",
       "25967        Data Analyst                    Computers/Technology   \n",
       "25968             Student                                           \n",
       "25969  Research Scientist                     Academics/Education   \n",
       "25970      Data Scientist  Online Service/Internet-based Services   \n",
       "25971    Business Analyst                                   Other   \n",
       "\n",
       "          tamaño de la compañia  \n",
       "25967  10,000 or more employees  \n",
       "25968                            \n",
       "25969      1000-9,999 employees  \n",
       "25970  10,000 or more employees  \n",
       "25971            0-49 employees  "
      ]
     },
     "execution_count": 22,
     "metadata": {},
     "output_type": "execute_result"
    }
   ],
   "source": [
    "df_social.tail()"
   ]
  },
  {
   "cell_type": "code",
   "execution_count": 23,
   "metadata": {},
   "outputs": [
    {
     "data": {
      "text/plain": [
       "''"
      ]
     },
     "execution_count": 23,
     "metadata": {},
     "output_type": "execute_result"
    }
   ],
   "source": [
    "df_social.loc[4, 'sector']"
   ]
  },
  {
   "cell_type": "code",
   "execution_count": 24,
   "metadata": {},
   "outputs": [
    {
     "data": {
      "text/plain": [
       "(25972, 7)"
      ]
     },
     "execution_count": 24,
     "metadata": {},
     "output_type": "execute_result"
    }
   ],
   "source": [
    "df_social.shape"
   ]
  },
  {
   "cell_type": "code",
   "execution_count": 25,
   "metadata": {},
   "outputs": [
    {
     "data": {
      "text/html": [
       "<div>\n",
       "<style scoped>\n",
       "    .dataframe tbody tr th:only-of-type {\n",
       "        vertical-align: middle;\n",
       "    }\n",
       "\n",
       "    .dataframe tbody tr th {\n",
       "        vertical-align: top;\n",
       "    }\n",
       "\n",
       "    .dataframe thead th {\n",
       "        text-align: right;\n",
       "    }\n",
       "</style>\n",
       "<table border=\"1\" class=\"dataframe\">\n",
       "  <thead>\n",
       "    <tr style=\"text-align: right;\">\n",
       "      <th></th>\n",
       "      <th>count</th>\n",
       "      <th>unique</th>\n",
       "      <th>top</th>\n",
       "      <th>freq</th>\n",
       "    </tr>\n",
       "  </thead>\n",
       "  <tbody>\n",
       "    <tr>\n",
       "      <th>genero</th>\n",
       "      <td>25972</td>\n",
       "      <td>5</td>\n",
       "      <td>Man</td>\n",
       "      <td>20597</td>\n",
       "    </tr>\n",
       "    <tr>\n",
       "      <th>edad</th>\n",
       "      <td>25972</td>\n",
       "      <td>11</td>\n",
       "      <td>25-29</td>\n",
       "      <td>4931</td>\n",
       "    </tr>\n",
       "    <tr>\n",
       "      <th>pais</th>\n",
       "      <td>25972</td>\n",
       "      <td>66</td>\n",
       "      <td>India</td>\n",
       "      <td>7433</td>\n",
       "    </tr>\n",
       "    <tr>\n",
       "      <th>nivel de estudios</th>\n",
       "      <td>25972</td>\n",
       "      <td>7</td>\n",
       "      <td>Master’s degree</td>\n",
       "      <td>10132</td>\n",
       "    </tr>\n",
       "    <tr>\n",
       "      <th>puesto de trabajo</th>\n",
       "      <td>25972</td>\n",
       "      <td>15</td>\n",
       "      <td>Student</td>\n",
       "      <td>6804</td>\n",
       "    </tr>\n",
       "    <tr>\n",
       "      <th>sector</th>\n",
       "      <td>25972</td>\n",
       "      <td>19</td>\n",
       "      <td></td>\n",
       "      <td>9648</td>\n",
       "    </tr>\n",
       "    <tr>\n",
       "      <th>tamaño de la compañia</th>\n",
       "      <td>25972</td>\n",
       "      <td>6</td>\n",
       "      <td></td>\n",
       "      <td>9722</td>\n",
       "    </tr>\n",
       "  </tbody>\n",
       "</table>\n",
       "</div>"
      ],
      "text/plain": [
       "                       count unique              top   freq\n",
       "genero                 25972      5              Man  20597\n",
       "edad                   25972     11            25-29   4931\n",
       "pais                   25972     66            India   7433\n",
       "nivel de estudios      25972      7  Master’s degree  10132\n",
       "puesto de trabajo      25972     15          Student   6804\n",
       "sector                 25972     19                    9648\n",
       "tamaño de la compañia  25972      6                    9722"
      ]
     },
     "execution_count": 25,
     "metadata": {},
     "output_type": "execute_result"
    }
   ],
   "source": [
    "df_social.describe(include = \"all\").T"
   ]
  },
  {
   "cell_type": "code",
   "execution_count": 26,
   "metadata": {},
   "outputs": [
    {
     "name": "stdout",
     "output_type": "stream",
     "text": [
      "<class 'pandas.core.frame.DataFrame'>\n",
      "RangeIndex: 25972 entries, 0 to 25971\n",
      "Data columns (total 7 columns):\n",
      " #   Column                 Non-Null Count  Dtype \n",
      "---  ------                 --------------  ----- \n",
      " 0   genero                 25972 non-null  object\n",
      " 1   edad                   25972 non-null  object\n",
      " 2   pais                   25972 non-null  object\n",
      " 3   nivel de estudios      25972 non-null  object\n",
      " 4   puesto de trabajo      25972 non-null  object\n",
      " 5   sector                 25972 non-null  object\n",
      " 6   tamaño de la compañia  25972 non-null  object\n",
      "dtypes: object(7)\n",
      "memory usage: 1.4+ MB\n"
     ]
    }
   ],
   "source": [
    "df_social.info()"
   ]
  },
  {
   "cell_type": "code",
   "execution_count": 27,
   "metadata": {},
   "outputs": [
    {
     "data": {
      "text/html": [
       "<div>\n",
       "<style scoped>\n",
       "    .dataframe tbody tr th:only-of-type {\n",
       "        vertical-align: middle;\n",
       "    }\n",
       "\n",
       "    .dataframe tbody tr th {\n",
       "        vertical-align: top;\n",
       "    }\n",
       "\n",
       "    .dataframe thead th {\n",
       "        text-align: right;\n",
       "    }\n",
       "</style>\n",
       "<table border=\"1\" class=\"dataframe\">\n",
       "  <thead>\n",
       "    <tr style=\"text-align: right;\">\n",
       "      <th></th>\n",
       "      <th>missing</th>\n",
       "      <th>total</th>\n",
       "      <th>percent</th>\n",
       "    </tr>\n",
       "  </thead>\n",
       "  <tbody>\n",
       "    <tr>\n",
       "      <th>genero</th>\n",
       "      <td>0</td>\n",
       "      <td>25972</td>\n",
       "      <td>0.0</td>\n",
       "    </tr>\n",
       "    <tr>\n",
       "      <th>edad</th>\n",
       "      <td>0</td>\n",
       "      <td>25972</td>\n",
       "      <td>0.0</td>\n",
       "    </tr>\n",
       "    <tr>\n",
       "      <th>pais</th>\n",
       "      <td>0</td>\n",
       "      <td>25972</td>\n",
       "      <td>0.0</td>\n",
       "    </tr>\n",
       "    <tr>\n",
       "      <th>nivel de estudios</th>\n",
       "      <td>0</td>\n",
       "      <td>25972</td>\n",
       "      <td>0.0</td>\n",
       "    </tr>\n",
       "    <tr>\n",
       "      <th>puesto de trabajo</th>\n",
       "      <td>0</td>\n",
       "      <td>25972</td>\n",
       "      <td>0.0</td>\n",
       "    </tr>\n",
       "    <tr>\n",
       "      <th>sector</th>\n",
       "      <td>0</td>\n",
       "      <td>25972</td>\n",
       "      <td>0.0</td>\n",
       "    </tr>\n",
       "    <tr>\n",
       "      <th>tamaño de la compañia</th>\n",
       "      <td>0</td>\n",
       "      <td>25972</td>\n",
       "      <td>0.0</td>\n",
       "    </tr>\n",
       "  </tbody>\n",
       "</table>\n",
       "</div>"
      ],
      "text/plain": [
       "                       missing  total  percent\n",
       "genero                       0  25972      0.0\n",
       "edad                         0  25972      0.0\n",
       "pais                         0  25972      0.0\n",
       "nivel de estudios            0  25972      0.0\n",
       "puesto de trabajo            0  25972      0.0\n",
       "sector                       0  25972      0.0\n",
       "tamaño de la compañia        0  25972      0.0"
      ]
     },
     "execution_count": 27,
     "metadata": {},
     "output_type": "execute_result"
    }
   ],
   "source": [
    "df_social.stb.missing()"
   ]
  },
  {
   "cell_type": "code",
   "execution_count": 28,
   "metadata": {},
   "outputs": [
    {
     "data": {
      "text/html": [
       "<div>\n",
       "<style scoped>\n",
       "    .dataframe tbody tr th:only-of-type {\n",
       "        vertical-align: middle;\n",
       "    }\n",
       "\n",
       "    .dataframe tbody tr th {\n",
       "        vertical-align: top;\n",
       "    }\n",
       "\n",
       "    .dataframe thead th {\n",
       "        text-align: right;\n",
       "    }\n",
       "</style>\n",
       "<table border=\"1\" class=\"dataframe\">\n",
       "  <thead>\n",
       "    <tr style=\"text-align: right;\">\n",
       "      <th></th>\n",
       "      <th>genero</th>\n",
       "      <th>count</th>\n",
       "      <th>percent</th>\n",
       "      <th>cumulative_count</th>\n",
       "      <th>cumulative_percent</th>\n",
       "    </tr>\n",
       "  </thead>\n",
       "  <tbody>\n",
       "    <tr>\n",
       "      <th>0</th>\n",
       "      <td>Man</td>\n",
       "      <td>20597</td>\n",
       "      <td>79.304636</td>\n",
       "      <td>20597</td>\n",
       "      <td>79.304636</td>\n",
       "    </tr>\n",
       "    <tr>\n",
       "      <th>1</th>\n",
       "      <td>Woman</td>\n",
       "      <td>4890</td>\n",
       "      <td>18.827969</td>\n",
       "      <td>25487</td>\n",
       "      <td>98.132604</td>\n",
       "    </tr>\n",
       "    <tr>\n",
       "      <th>2</th>\n",
       "      <td>Prefer not to say</td>\n",
       "      <td>355</td>\n",
       "      <td>1.366857</td>\n",
       "      <td>25842</td>\n",
       "      <td>99.499461</td>\n",
       "    </tr>\n",
       "    <tr>\n",
       "      <th>3</th>\n",
       "      <td>Nonbinary</td>\n",
       "      <td>88</td>\n",
       "      <td>0.338826</td>\n",
       "      <td>25930</td>\n",
       "      <td>99.838287</td>\n",
       "    </tr>\n",
       "    <tr>\n",
       "      <th>4</th>\n",
       "      <td>Prefer to self-describe</td>\n",
       "      <td>42</td>\n",
       "      <td>0.161713</td>\n",
       "      <td>25972</td>\n",
       "      <td>100.000000</td>\n",
       "    </tr>\n",
       "  </tbody>\n",
       "</table>\n",
       "</div>"
      ],
      "text/plain": [
       "                    genero  count    percent  cumulative_count  \\\n",
       "0                      Man  20597  79.304636             20597   \n",
       "1                    Woman   4890  18.827969             25487   \n",
       "2        Prefer not to say    355   1.366857             25842   \n",
       "3                Nonbinary     88   0.338826             25930   \n",
       "4  Prefer to self-describe     42   0.161713             25972   \n",
       "\n",
       "   cumulative_percent  \n",
       "0           79.304636  \n",
       "1           98.132604  \n",
       "2           99.499461  \n",
       "3           99.838287  \n",
       "4          100.000000  "
      ]
     },
     "execution_count": 28,
     "metadata": {},
     "output_type": "execute_result"
    }
   ],
   "source": [
    "df_social.stb.freq(['genero'])"
   ]
  },
  {
   "cell_type": "code",
   "execution_count": 29,
   "metadata": {},
   "outputs": [
    {
     "data": {
      "text/html": [
       "<div>\n",
       "<style scoped>\n",
       "    .dataframe tbody tr th:only-of-type {\n",
       "        vertical-align: middle;\n",
       "    }\n",
       "\n",
       "    .dataframe tbody tr th {\n",
       "        vertical-align: top;\n",
       "    }\n",
       "\n",
       "    .dataframe thead th {\n",
       "        text-align: right;\n",
       "    }\n",
       "</style>\n",
       "<table border=\"1\" class=\"dataframe\">\n",
       "  <thead>\n",
       "    <tr style=\"text-align: right;\">\n",
       "      <th></th>\n",
       "      <th>nivel de estudios</th>\n",
       "      <th>count</th>\n",
       "      <th>percent</th>\n",
       "      <th>cumulative_count</th>\n",
       "      <th>cumulative_percent</th>\n",
       "    </tr>\n",
       "  </thead>\n",
       "  <tbody>\n",
       "    <tr>\n",
       "      <th>0</th>\n",
       "      <td>Master’s degree</td>\n",
       "      <td>10132</td>\n",
       "      <td>39.011243</td>\n",
       "      <td>10132</td>\n",
       "      <td>39.011243</td>\n",
       "    </tr>\n",
       "    <tr>\n",
       "      <th>1</th>\n",
       "      <td>Bachelor’s degree</td>\n",
       "      <td>9906</td>\n",
       "      <td>38.141075</td>\n",
       "      <td>20038</td>\n",
       "      <td>77.152318</td>\n",
       "    </tr>\n",
       "    <tr>\n",
       "      <th>2</th>\n",
       "      <td>Doctoral degree</td>\n",
       "      <td>2795</td>\n",
       "      <td>10.761589</td>\n",
       "      <td>22833</td>\n",
       "      <td>87.913907</td>\n",
       "    </tr>\n",
       "    <tr>\n",
       "      <th>3</th>\n",
       "      <td>Some college/university study without earning ...</td>\n",
       "      <td>1735</td>\n",
       "      <td>6.680271</td>\n",
       "      <td>24568</td>\n",
       "      <td>94.594178</td>\n",
       "    </tr>\n",
       "    <tr>\n",
       "      <th>4</th>\n",
       "      <td>I prefer not to answer</td>\n",
       "      <td>627</td>\n",
       "      <td>2.414138</td>\n",
       "      <td>25195</td>\n",
       "      <td>97.008317</td>\n",
       "    </tr>\n",
       "    <tr>\n",
       "      <th>5</th>\n",
       "      <td>No formal education past high school</td>\n",
       "      <td>417</td>\n",
       "      <td>1.605575</td>\n",
       "      <td>25612</td>\n",
       "      <td>98.613892</td>\n",
       "    </tr>\n",
       "    <tr>\n",
       "      <th>6</th>\n",
       "      <td>Professional doctorate</td>\n",
       "      <td>360</td>\n",
       "      <td>1.386108</td>\n",
       "      <td>25972</td>\n",
       "      <td>100.000000</td>\n",
       "    </tr>\n",
       "  </tbody>\n",
       "</table>\n",
       "</div>"
      ],
      "text/plain": [
       "                                   nivel de estudios  count    percent  \\\n",
       "0                                    Master’s degree  10132  39.011243   \n",
       "1                                  Bachelor’s degree   9906  38.141075   \n",
       "2                                    Doctoral degree   2795  10.761589   \n",
       "3  Some college/university study without earning ...   1735   6.680271   \n",
       "4                             I prefer not to answer    627   2.414138   \n",
       "5               No formal education past high school    417   1.605575   \n",
       "6                             Professional doctorate    360   1.386108   \n",
       "\n",
       "   cumulative_count  cumulative_percent  \n",
       "0             10132           39.011243  \n",
       "1             20038           77.152318  \n",
       "2             22833           87.913907  \n",
       "3             24568           94.594178  \n",
       "4             25195           97.008317  \n",
       "5             25612           98.613892  \n",
       "6             25972          100.000000  "
      ]
     },
     "execution_count": 29,
     "metadata": {},
     "output_type": "execute_result"
    }
   ],
   "source": [
    "df_social.stb.freq(['nivel de estudios'])"
   ]
  },
  {
   "cell_type": "code",
   "execution_count": 30,
   "metadata": {},
   "outputs": [
    {
     "data": {
      "text/html": [
       "<div>\n",
       "<style scoped>\n",
       "    .dataframe tbody tr th:only-of-type {\n",
       "        vertical-align: middle;\n",
       "    }\n",
       "\n",
       "    .dataframe tbody tr th {\n",
       "        vertical-align: top;\n",
       "    }\n",
       "\n",
       "    .dataframe thead th {\n",
       "        text-align: right;\n",
       "    }\n",
       "</style>\n",
       "<table border=\"1\" class=\"dataframe\">\n",
       "  <thead>\n",
       "    <tr style=\"text-align: right;\">\n",
       "      <th></th>\n",
       "      <th>puesto de trabajo</th>\n",
       "      <th>count</th>\n",
       "      <th>percent</th>\n",
       "      <th>cumulative_count</th>\n",
       "      <th>cumulative_percent</th>\n",
       "    </tr>\n",
       "  </thead>\n",
       "  <tbody>\n",
       "    <tr>\n",
       "      <th>0</th>\n",
       "      <td>Student</td>\n",
       "      <td>6804</td>\n",
       "      <td>26.197443</td>\n",
       "      <td>6804</td>\n",
       "      <td>26.197443</td>\n",
       "    </tr>\n",
       "    <tr>\n",
       "      <th>1</th>\n",
       "      <td>Data Scientist</td>\n",
       "      <td>3616</td>\n",
       "      <td>13.922686</td>\n",
       "      <td>10420</td>\n",
       "      <td>40.120129</td>\n",
       "    </tr>\n",
       "    <tr>\n",
       "      <th>2</th>\n",
       "      <td>Software Engineer</td>\n",
       "      <td>2449</td>\n",
       "      <td>9.429385</td>\n",
       "      <td>12869</td>\n",
       "      <td>49.549515</td>\n",
       "    </tr>\n",
       "    <tr>\n",
       "      <th>3</th>\n",
       "      <td>Other</td>\n",
       "      <td>2392</td>\n",
       "      <td>9.209918</td>\n",
       "      <td>15261</td>\n",
       "      <td>58.759433</td>\n",
       "    </tr>\n",
       "    <tr>\n",
       "      <th>4</th>\n",
       "      <td>Data Analyst</td>\n",
       "      <td>2301</td>\n",
       "      <td>8.859541</td>\n",
       "      <td>17562</td>\n",
       "      <td>67.618974</td>\n",
       "    </tr>\n",
       "    <tr>\n",
       "      <th>5</th>\n",
       "      <td>Currently not employed</td>\n",
       "      <td>1986</td>\n",
       "      <td>7.646696</td>\n",
       "      <td>19548</td>\n",
       "      <td>75.265671</td>\n",
       "    </tr>\n",
       "    <tr>\n",
       "      <th>6</th>\n",
       "      <td>Research Scientist</td>\n",
       "      <td>1538</td>\n",
       "      <td>5.921762</td>\n",
       "      <td>21086</td>\n",
       "      <td>81.187433</td>\n",
       "    </tr>\n",
       "    <tr>\n",
       "      <th>7</th>\n",
       "      <td>Machine Learning Engineer</td>\n",
       "      <td>1499</td>\n",
       "      <td>5.771600</td>\n",
       "      <td>22585</td>\n",
       "      <td>86.959033</td>\n",
       "    </tr>\n",
       "    <tr>\n",
       "      <th>8</th>\n",
       "      <td>Business Analyst</td>\n",
       "      <td>968</td>\n",
       "      <td>3.727091</td>\n",
       "      <td>23553</td>\n",
       "      <td>90.686124</td>\n",
       "    </tr>\n",
       "    <tr>\n",
       "      <th>9</th>\n",
       "      <td>Program/Project Manager</td>\n",
       "      <td>849</td>\n",
       "      <td>3.268905</td>\n",
       "      <td>24402</td>\n",
       "      <td>93.955028</td>\n",
       "    </tr>\n",
       "    <tr>\n",
       "      <th>10</th>\n",
       "      <td>Data Engineer</td>\n",
       "      <td>668</td>\n",
       "      <td>2.572001</td>\n",
       "      <td>25070</td>\n",
       "      <td>96.527029</td>\n",
       "    </tr>\n",
       "    <tr>\n",
       "      <th>11</th>\n",
       "      <td>Product Manager</td>\n",
       "      <td>319</td>\n",
       "      <td>1.228246</td>\n",
       "      <td>25389</td>\n",
       "      <td>97.755275</td>\n",
       "    </tr>\n",
       "    <tr>\n",
       "      <th>12</th>\n",
       "      <td>Statistician</td>\n",
       "      <td>313</td>\n",
       "      <td>1.205144</td>\n",
       "      <td>25702</td>\n",
       "      <td>98.960419</td>\n",
       "    </tr>\n",
       "    <tr>\n",
       "      <th>13</th>\n",
       "      <td>DBA/Database Engineer</td>\n",
       "      <td>171</td>\n",
       "      <td>0.658401</td>\n",
       "      <td>25873</td>\n",
       "      <td>99.618820</td>\n",
       "    </tr>\n",
       "    <tr>\n",
       "      <th>14</th>\n",
       "      <td>Developer Relations/Advocacy</td>\n",
       "      <td>99</td>\n",
       "      <td>0.381180</td>\n",
       "      <td>25972</td>\n",
       "      <td>100.000000</td>\n",
       "    </tr>\n",
       "  </tbody>\n",
       "</table>\n",
       "</div>"
      ],
      "text/plain": [
       "               puesto de trabajo  count    percent  cumulative_count  \\\n",
       "0                        Student   6804  26.197443              6804   \n",
       "1                 Data Scientist   3616  13.922686             10420   \n",
       "2              Software Engineer   2449   9.429385             12869   \n",
       "3                          Other   2392   9.209918             15261   \n",
       "4                   Data Analyst   2301   8.859541             17562   \n",
       "5         Currently not employed   1986   7.646696             19548   \n",
       "6             Research Scientist   1538   5.921762             21086   \n",
       "7      Machine Learning Engineer   1499   5.771600             22585   \n",
       "8               Business Analyst    968   3.727091             23553   \n",
       "9        Program/Project Manager    849   3.268905             24402   \n",
       "10                 Data Engineer    668   2.572001             25070   \n",
       "11               Product Manager    319   1.228246             25389   \n",
       "12                  Statistician    313   1.205144             25702   \n",
       "13         DBA/Database Engineer    171   0.658401             25873   \n",
       "14  Developer Relations/Advocacy     99   0.381180             25972   \n",
       "\n",
       "    cumulative_percent  \n",
       "0            26.197443  \n",
       "1            40.120129  \n",
       "2            49.549515  \n",
       "3            58.759433  \n",
       "4            67.618974  \n",
       "5            75.265671  \n",
       "6            81.187433  \n",
       "7            86.959033  \n",
       "8            90.686124  \n",
       "9            93.955028  \n",
       "10           96.527029  \n",
       "11           97.755275  \n",
       "12           98.960419  \n",
       "13           99.618820  \n",
       "14          100.000000  "
      ]
     },
     "execution_count": 30,
     "metadata": {},
     "output_type": "execute_result"
    }
   ],
   "source": [
    "df_social.stb.freq(['puesto de trabajo'])"
   ]
  },
  {
   "cell_type": "code",
   "execution_count": 31,
   "metadata": {},
   "outputs": [
    {
     "data": {
      "image/png": "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",
      "text/plain": [
       "<Figure size 720x720 with 1 Axes>"
      ]
     },
     "metadata": {
      "needs_background": "light"
     },
     "output_type": "display_data"
    }
   ],
   "source": [
    "plt.figure(figsize=(10,10))\n",
    "\n",
    "fig = sns.countplot(y = df_social[\"edad\"], hue = df_social[\"genero\"], palette = 'plasma')\n",
    "\n",
    "plt.show()"
   ]
  },
  {
   "cell_type": "code",
   "execution_count": 32,
   "metadata": {},
   "outputs": [
    {
     "data": {
      "image/png": "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",
      "text/plain": [
       "<Figure size 720x720 with 1 Axes>"
      ]
     },
     "metadata": {
      "needs_background": "light"
     },
     "output_type": "display_data"
    }
   ],
   "source": [
    "plt.figure(figsize=(10,10))\n",
    "\n",
    "fig = sns.countplot(y = df_social[\"nivel de estudios\"], hue = df_social[\"genero\"], palette = 'plasma')\n",
    "\n",
    "plt.show()"
   ]
  },
  {
   "cell_type": "code",
   "execution_count": 33,
   "metadata": {},
   "outputs": [
    {
     "data": {
      "image/png": "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",
      "text/plain": [
       "<Figure size 720x720 with 1 Axes>"
      ]
     },
     "metadata": {
      "needs_background": "light"
     },
     "output_type": "display_data"
    }
   ],
   "source": [
    "plt.figure(figsize=(10,10))\n",
    "\n",
    "fig = sns.countplot(y = df_social[\"puesto de trabajo\"], hue = df_social[\"genero\"], palette = 'plasma')\n",
    "\n",
    "plt.show()"
   ]
  },
  {
   "cell_type": "code",
   "execution_count": 34,
   "metadata": {},
   "outputs": [
    {
     "data": {
      "image/png": "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",
      "text/plain": [
       "<Figure size 720x720 with 1 Axes>"
      ]
     },
     "metadata": {
      "needs_background": "light"
     },
     "output_type": "display_data"
    }
   ],
   "source": [
    "plt.figure(figsize=(10,10))\n",
    "\n",
    "fig = sns.countplot(y = df_social[\"sector\"], hue = df_social[\"genero\"], palette = 'plasma')\n",
    "\n",
    "plt.show()"
   ]
  },
  {
   "cell_type": "code",
   "execution_count": 35,
   "metadata": {},
   "outputs": [
    {
     "data": {
      "image/png": "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",
      "text/plain": [
       "<Figure size 720x720 with 1 Axes>"
      ]
     },
     "metadata": {
      "needs_background": "light"
     },
     "output_type": "display_data"
    }
   ],
   "source": [
    "plt.figure(figsize=(10,10))\n",
    "\n",
    "fig = sns.countplot(y = df_social[\"tamaño de la compañia\"], hue = df_social[\"genero\"], palette = 'plasma')\n",
    "\n",
    "plt.show()"
   ]
  },
  {
   "cell_type": "code",
   "execution_count": 36,
   "metadata": {},
   "outputs": [],
   "source": [
    "df_social.to_csv('../Datos/df-social-sucio.csv')"
   ]
  }
 ],
 "metadata": {
  "kernelspec": {
   "display_name": "Python 3",
   "language": "python",
   "name": "python3"
  },
  "language_info": {
   "codemirror_mode": {
    "name": "ipython",
    "version": 3
   },
   "file_extension": ".py",
   "mimetype": "text/x-python",
   "name": "python",
   "nbconvert_exporter": "python",
   "pygments_lexer": "ipython3",
<<<<<<< HEAD
   "version": "3.10.9 (tags/v3.10.9:1dd9be6, Dec  6 2022, 20:01:21) [MSC v.1934 64 bit (AMD64)]"
=======
   "version": "3.6.9 (default, Mar 15 2022, 13:55:28) \n[GCC 8.4.0]"
>>>>>>> 285e81342e29407fa893327237e51c2a404638c9
  },
  "orig_nbformat": 4,
  "vscode": {
   "interpreter": {
<<<<<<< HEAD
    "hash": "386358fdc1fd0de6900d07d882f42fc953f23690ede61ed9b4d9d7c82a6402d7"
=======
    "hash": "31f2aee4e71d21fbe5cf8b01ff0e069b9275f58929596ceb00d14d90e3e16cd6"
>>>>>>> 285e81342e29407fa893327237e51c2a404638c9
   }
  }
 },
 "nbformat": 4,
 "nbformat_minor": 2
}
